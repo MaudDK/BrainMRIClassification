{
 "cells": [
  {
   "cell_type": "code",
   "execution_count": 1,
   "id": "a76d26f4",
   "metadata": {
    "_cell_guid": "b1076dfc-b9ad-4769-8c92-a6c4dae69d19",
    "_uuid": "8f2839f25d086af736a60e9eeb907d3b93b6e0e5",
    "execution": {
     "iopub.execute_input": "2022-10-07T16:16:42.785104Z",
     "iopub.status.busy": "2022-10-07T16:16:42.784141Z",
     "iopub.status.idle": "2022-10-07T16:16:47.705407Z",
     "shell.execute_reply": "2022-10-07T16:16:47.704414Z"
    },
    "papermill": {
     "duration": 4.931538,
     "end_time": "2022-10-07T16:16:47.708185",
     "exception": false,
     "start_time": "2022-10-07T16:16:42.776647",
     "status": "completed"
    },
    "tags": []
   },
   "outputs": [],
   "source": [
    "import numpy as np # linear algebra\n",
    "import pandas as pd # data processing, CSV file I/O (e.g. pd.read_csv)\n",
    "import tensorflow as tf\n",
    "from tensorflow.keras.layers import *\n",
    "import matplotlib.pyplot as plt\n",
    "%matplotlib inline\n",
    "plt.style.use('dark_background')"
   ]
  },
  {
   "cell_type": "code",
   "execution_count": 2,
   "id": "46212e88",
   "metadata": {
    "execution": {
     "iopub.execute_input": "2022-10-07T16:16:47.717117Z",
     "iopub.status.busy": "2022-10-07T16:16:47.715429Z",
     "iopub.status.idle": "2022-10-07T16:17:44.624974Z",
     "shell.execute_reply": "2022-10-07T16:17:44.623509Z"
    },
    "papermill": {
     "duration": 56.916232,
     "end_time": "2022-10-07T16:17:44.627716",
     "exception": false,
     "start_time": "2022-10-07T16:16:47.711484",
     "status": "completed"
    },
    "tags": []
   },
   "outputs": [
    {
     "name": "stdout",
     "output_type": "stream",
     "text": [
      "Found 33984 files belonging to 4 classes.\n"
     ]
    },
    {
     "name": "stderr",
     "output_type": "stream",
     "text": [
      "2022-10-07 16:17:34.445608: I tensorflow/stream_executor/cuda/cuda_gpu_executor.cc:937] successful NUMA node read from SysFS had negative value (-1), but there must be at least one NUMA node, so returning NUMA node zero\n",
      "2022-10-07 16:17:34.537665: I tensorflow/stream_executor/cuda/cuda_gpu_executor.cc:937] successful NUMA node read from SysFS had negative value (-1), but there must be at least one NUMA node, so returning NUMA node zero\n",
      "2022-10-07 16:17:34.538400: I tensorflow/stream_executor/cuda/cuda_gpu_executor.cc:937] successful NUMA node read from SysFS had negative value (-1), but there must be at least one NUMA node, so returning NUMA node zero\n",
      "2022-10-07 16:17:34.545758: I tensorflow/core/platform/cpu_feature_guard.cc:142] This TensorFlow binary is optimized with oneAPI Deep Neural Network Library (oneDNN) to use the following CPU instructions in performance-critical operations:  AVX2 AVX512F FMA\n",
      "To enable them in other operations, rebuild TensorFlow with the appropriate compiler flags.\n",
      "2022-10-07 16:17:34.546096: I tensorflow/stream_executor/cuda/cuda_gpu_executor.cc:937] successful NUMA node read from SysFS had negative value (-1), but there must be at least one NUMA node, so returning NUMA node zero\n",
      "2022-10-07 16:17:34.547302: I tensorflow/stream_executor/cuda/cuda_gpu_executor.cc:937] successful NUMA node read from SysFS had negative value (-1), but there must be at least one NUMA node, so returning NUMA node zero\n",
      "2022-10-07 16:17:34.547984: I tensorflow/stream_executor/cuda/cuda_gpu_executor.cc:937] successful NUMA node read from SysFS had negative value (-1), but there must be at least one NUMA node, so returning NUMA node zero\n",
      "2022-10-07 16:17:36.529738: I tensorflow/stream_executor/cuda/cuda_gpu_executor.cc:937] successful NUMA node read from SysFS had negative value (-1), but there must be at least one NUMA node, so returning NUMA node zero\n",
      "2022-10-07 16:17:36.530583: I tensorflow/stream_executor/cuda/cuda_gpu_executor.cc:937] successful NUMA node read from SysFS had negative value (-1), but there must be at least one NUMA node, so returning NUMA node zero\n",
      "2022-10-07 16:17:36.531327: I tensorflow/stream_executor/cuda/cuda_gpu_executor.cc:937] successful NUMA node read from SysFS had negative value (-1), but there must be at least one NUMA node, so returning NUMA node zero\n",
      "2022-10-07 16:17:36.532014: I tensorflow/core/common_runtime/gpu/gpu_device.cc:1510] Created device /job:localhost/replica:0/task:0/device:GPU:0 with 15401 MB memory:  -> device: 0, name: Tesla P100-PCIE-16GB, pci bus id: 0000:00:04.0, compute capability: 6.0\n"
     ]
    },
    {
     "name": "stdout",
     "output_type": "stream",
     "text": [
      "Found 6400 files belonging to 4 classes.\n"
     ]
    }
   ],
   "source": [
    "train_path = \"../input/augmented-alzheimer-mri-dataset-v2/data/train\"\n",
    "test_path = \"../input/augmented-alzheimer-mri-dataset-v2/data/val\"\n",
    "\n",
    "img_height, img_width = 125, 125\n",
    "batch_size = 32\n",
    "\n",
    "train_ds = tf.keras.preprocessing.image_dataset_from_directory(\n",
    "    train_path,\n",
    "    label_mode = \"categorical\",\n",
    "    image_size = (img_height, img_width),\n",
    "    batch_size = batch_size\n",
    ")\n",
    "\n",
    "val_ds = tf.keras.preprocessing.image_dataset_from_directory(\n",
    "    test_path,\n",
    "    label_mode = \"categorical\",\n",
    "    image_size = (img_height, img_width),\n",
    "    batch_size = batch_size\n",
    ")"
   ]
  },
  {
   "cell_type": "markdown",
   "id": "c035a86a",
   "metadata": {
    "papermill": {
     "duration": 0.002908,
     "end_time": "2022-10-07T16:17:44.634283",
     "exception": false,
     "start_time": "2022-10-07T16:17:44.631375",
     "status": "completed"
    },
    "tags": []
   },
   "source": [
    "# Models #"
   ]
  },
  {
   "cell_type": "code",
   "execution_count": 3,
   "id": "9d38f2a4",
   "metadata": {
    "execution": {
     "iopub.execute_input": "2022-10-07T16:17:44.642087Z",
     "iopub.status.busy": "2022-10-07T16:17:44.641193Z",
     "iopub.status.idle": "2022-10-07T16:17:44.648077Z",
     "shell.execute_reply": "2022-10-07T16:17:44.647226Z"
    },
    "papermill": {
     "duration": 0.012639,
     "end_time": "2022-10-07T16:17:44.649943",
     "exception": false,
     "start_time": "2022-10-07T16:17:44.637304",
     "status": "completed"
    },
    "tags": []
   },
   "outputs": [],
   "source": [
    "models = dict()\n",
    "optimizer = tf.keras.optimizers.Adam(learning_rate = 0.0001)\n",
    "loss = \"categorical_crossentropy\"\n",
    "metrics = [\"accuracy\", \"AUC\"]\n",
    "\n",
    "earlystop = [\n",
    "    tf.keras.callbacks.EarlyStopping(\n",
    "        # Stop training when `val_loss` is no longer improving\n",
    "        monitor=\"val_loss\",\n",
    "        # \"no longer improving\" being defined as \"no better than 1e-2 less\"\n",
    "        min_delta=1e-3,\n",
    "        # \"no longer improving\" being further defined as \"for at least 2 epochs\"\n",
    "        patience = 10,\n",
    "        verbose=1,\n",
    "    )\n",
    "]\n",
    "\n",
    "callbacks = dict()"
   ]
  },
  {
   "cell_type": "markdown",
   "id": "a9180ca0",
   "metadata": {
    "papermill": {
     "duration": 0.002986,
     "end_time": "2022-10-07T16:17:44.655951",
     "exception": false,
     "start_time": "2022-10-07T16:17:44.652965",
     "status": "completed"
    },
    "tags": []
   },
   "source": [
    "### EfficientNetB2 ###"
   ]
  },
  {
   "cell_type": "code",
   "execution_count": 4,
   "id": "527ad874",
   "metadata": {
    "execution": {
     "iopub.execute_input": "2022-10-07T16:17:44.663710Z",
     "iopub.status.busy": "2022-10-07T16:17:44.663085Z",
     "iopub.status.idle": "2022-10-07T16:17:48.219188Z",
     "shell.execute_reply": "2022-10-07T16:17:48.217483Z"
    },
    "papermill": {
     "duration": 3.563328,
     "end_time": "2022-10-07T16:17:48.222280",
     "exception": false,
     "start_time": "2022-10-07T16:17:44.658952",
     "status": "completed"
    },
    "tags": []
   },
   "outputs": [
    {
     "name": "stdout",
     "output_type": "stream",
     "text": [
      "Downloading data from https://storage.googleapis.com/keras-applications/efficientnetb2_notop.h5\n",
      "31793152/31790344 [==============================] - 0s 0us/step\n",
      "31801344/31790344 [==============================] - 0s 0us/step\n",
      "Model: \"EfficientNetB2\"\n",
      "_________________________________________________________________\n",
      "Layer (type)                 Output Shape              Param #   \n",
      "=================================================================\n",
      "efficientnetb2 (Functional)  (None, 1408)              7768569   \n",
      "_________________________________________________________________\n",
      "flatten (Flatten)            (None, 1408)              0         \n",
      "_________________________________________________________________\n",
      "dense (Dense)                (None, 512)               721408    \n",
      "_________________________________________________________________\n",
      "dense_1 (Dense)              (None, 256)               131328    \n",
      "_________________________________________________________________\n",
      "dropout (Dropout)            (None, 256)               0         \n",
      "_________________________________________________________________\n",
      "dense_2 (Dense)              (None, 4)                 1028      \n",
      "=================================================================\n",
      "Total params: 8,622,333\n",
      "Trainable params: 853,764\n",
      "Non-trainable params: 7,768,569\n",
      "_________________________________________________________________\n"
     ]
    }
   ],
   "source": [
    "efnb2_model = tf.keras.models.Sequential(name = \"EfficientNetB2\")\n",
    "\n",
    "#pretrained \n",
    "pretrained_efnb2 = tf.keras.applications.EfficientNetB2(\n",
    "    include_top = False,\n",
    "    weights=\"imagenet\",\n",
    "    input_shape= (img_height, img_width, 3),\n",
    "    pooling='max',\n",
    "    classes=4,\n",
    ")\n",
    "\n",
    "#freeze layers\n",
    "for layer in pretrained_efnb2.layers:\n",
    "    layer.trainable = False\n",
    "\n",
    "#Add new trainable weights\n",
    "efnb2_model.add(pretrained_efnb2)\n",
    "efnb2_model.add(Flatten())\n",
    "efnb2_model.add(Dense(512, activation = 'relu'))\n",
    "efnb2_model.add(Dense(256, activation = 'relu'))\n",
    "efnb2_model.add(Dropout(0.3))\n",
    "efnb2_model.add(Dense(4, activation = 'softmax'))\n",
    "\n",
    "#Compile Model\n",
    "efnb2_callbacks = [\n",
    "    tf.keras.callbacks.ModelCheckpoint(\n",
    "        filepath=\"EfficientNetB2_{epoch}\",\n",
    "        save_best_only=True,  # Only save a model if `val_loss` has improved.\n",
    "        monitor=\"val_loss\",\n",
    "        verbose=1,\n",
    "    )]\n",
    "\n",
    "efnb2_callbacks.extend(earlystop)\n",
    "efnb2_model.compile(loss = loss, optimizer = optimizer, metrics = metrics)\n",
    "efnb2_model.summary()\n",
    "\n",
    "models[\"efnb2\"] = efnb2_model\n",
    "callbacks[\"efnb2\"] = efnb2_callbacks"
   ]
  },
  {
   "cell_type": "markdown",
   "id": "e969caba",
   "metadata": {
    "papermill": {
     "duration": 0.00357,
     "end_time": "2022-10-07T16:17:48.230299",
     "exception": false,
     "start_time": "2022-10-07T16:17:48.226729",
     "status": "completed"
    },
    "tags": []
   },
   "source": [
    "### Xception Net ###"
   ]
  },
  {
   "cell_type": "code",
   "execution_count": 5,
   "id": "b31e6e05",
   "metadata": {
    "execution": {
     "iopub.execute_input": "2022-10-07T16:17:48.239797Z",
     "iopub.status.busy": "2022-10-07T16:17:48.238348Z",
     "iopub.status.idle": "2022-10-07T16:17:50.142154Z",
     "shell.execute_reply": "2022-10-07T16:17:50.141141Z"
    },
    "papermill": {
     "duration": 1.911675,
     "end_time": "2022-10-07T16:17:50.145570",
     "exception": false,
     "start_time": "2022-10-07T16:17:48.233895",
     "status": "completed"
    },
    "tags": []
   },
   "outputs": [
    {
     "name": "stdout",
     "output_type": "stream",
     "text": [
      "Downloading data from https://storage.googleapis.com/tensorflow/keras-applications/xception/xception_weights_tf_dim_ordering_tf_kernels_notop.h5\n",
      "83689472/83683744 [==============================] - 0s 0us/step\n",
      "83697664/83683744 [==============================] - 0s 0us/step\n",
      "Model: \"Xception\"\n",
      "_________________________________________________________________\n",
      "Layer (type)                 Output Shape              Param #   \n",
      "=================================================================\n",
      "xception (Functional)        (None, 2048)              20861480  \n",
      "_________________________________________________________________\n",
      "flatten_1 (Flatten)          (None, 2048)              0         \n",
      "_________________________________________________________________\n",
      "dense_3 (Dense)              (None, 512)               1049088   \n",
      "_________________________________________________________________\n",
      "dense_4 (Dense)              (None, 256)               131328    \n",
      "_________________________________________________________________\n",
      "dropout_1 (Dropout)          (None, 256)               0         \n",
      "_________________________________________________________________\n",
      "dense_5 (Dense)              (None, 4)                 1028      \n",
      "=================================================================\n",
      "Total params: 22,042,924\n",
      "Trainable params: 1,181,444\n",
      "Non-trainable params: 20,861,480\n",
      "_________________________________________________________________\n"
     ]
    }
   ],
   "source": [
    "Xception_model = tf.keras.models.Sequential(name = \"Xception\")\n",
    "\n",
    "#pretrained \n",
    "pretrained_Xception= tf.keras.applications.Xception(\n",
    "    include_top = False,\n",
    "    weights=\"imagenet\",\n",
    "    input_shape= (img_height, img_width, 3),\n",
    "    pooling='max',\n",
    "    classes=4,\n",
    ")\n",
    "\n",
    "#freeze layers\n",
    "for layer in pretrained_Xception.layers:\n",
    "    layer.trainable = False\n",
    "\n",
    "#Add new trainable weights\n",
    "Xception_model.add(pretrained_Xception)\n",
    "Xception_model.add(Flatten())\n",
    "Xception_model.add(Dense(512, activation = 'relu'))\n",
    "Xception_model.add(Dense(256, activation = 'relu'))\n",
    "Xception_model.add(Dropout(0.3))\n",
    "Xception_model.add(Dense(4, activation = 'softmax'))\n",
    "\n",
    "#Compile Model\n",
    "Xception_model.compile(loss = loss, optimizer = optimizer, metrics = metrics)\n",
    "Xception_model.summary()\n",
    "models[\"Xception\"] = Xception_model\n",
    "\n",
    "#Callbacks\n",
    "Xception_callbacks = [\n",
    "    tf.keras.callbacks.ModelCheckpoint(\n",
    "        # Path where to save the model\n",
    "        # The two parameters below mean that we will overwrite\n",
    "        # the current checkpoint if and only if\n",
    "        # the `val_loss` score has improved.\n",
    "        # The saved model name will include the current epoch.\n",
    "        filepath=\"Xception_{epoch}\",\n",
    "        save_best_only=True,  # Only save a model if `val_loss` has improved.\n",
    "        monitor=\"val_loss\",\n",
    "        verbose=1,\n",
    "    )]\n",
    "Xception_callbacks.extend(earlystop)\n",
    "callbacks[\"Xception\"] = Xception_callbacks\n"
   ]
  },
  {
   "cell_type": "markdown",
   "id": "78d9a3c1",
   "metadata": {
    "papermill": {
     "duration": 0.004375,
     "end_time": "2022-10-07T16:17:50.155744",
     "exception": false,
     "start_time": "2022-10-07T16:17:50.151369",
     "status": "completed"
    },
    "tags": []
   },
   "source": [
    "# Train #"
   ]
  },
  {
   "cell_type": "code",
   "execution_count": 6,
   "id": "ce8e3dae",
   "metadata": {
    "execution": {
     "iopub.execute_input": "2022-10-07T16:17:50.165189Z",
     "iopub.status.busy": "2022-10-07T16:17:50.164880Z",
     "iopub.status.idle": "2022-10-07T16:17:50.172155Z",
     "shell.execute_reply": "2022-10-07T16:17:50.171128Z"
    },
    "papermill": {
     "duration": 0.014306,
     "end_time": "2022-10-07T16:17:50.174271",
     "exception": false,
     "start_time": "2022-10-07T16:17:50.159965",
     "status": "completed"
    },
    "tags": []
   },
   "outputs": [],
   "source": [
    "def plot_history(history):\n",
    "    fig, ax = plt.subplots(1,3, figsize = (20,5))\n",
    "    #ax.set_xlabel('Epoch')\n",
    "    #ax.set_ylabel('Metric')\n",
    "    #ax.set_title(\"Title\")\n",
    "    \n",
    "    ax[0].set_title(\"Accuracy\", fontsize = 20)\n",
    "    ax[1].set_title(\"AUC\", fontsize = 20)\n",
    "    ax[2].set_title(\"Loss\", fontsize = 20)\n",
    "    \n",
    "    metrics = ['accuracy', 'val_accuracy', 'auc', 'val_auc', 'loss', 'val_loss']\n",
    "    \n",
    "    history = history.history\n",
    "        \n",
    "    for i, metric in enumerate(metrics):\n",
    "        i = i//2\n",
    "        ax[i].set_xticks(np.arange(0, 30, 1))\n",
    "        ax[i].plot(history[metric], 'o--')\n",
    "    \n",
    "    fig.tight_layout()\n",
    "    fig.legend(labels = [\"train\", \"validation\"], loc=\"upper right\")\n",
    "    plt.subplots_adjust(right=0.98)\n",
    "\n",
    "    plt.show()"
   ]
  },
  {
   "cell_type": "code",
   "execution_count": 7,
   "id": "b119a727",
   "metadata": {
    "execution": {
     "iopub.execute_input": "2022-10-07T16:17:50.183592Z",
     "iopub.status.busy": "2022-10-07T16:17:50.183310Z",
     "iopub.status.idle": "2022-10-07T19:02:17.254398Z",
     "shell.execute_reply": "2022-10-07T19:02:17.251954Z"
    },
    "papermill": {
     "duration": 9867.079047,
     "end_time": "2022-10-07T19:02:17.257411",
     "exception": false,
     "start_time": "2022-10-07T16:17:50.178364",
     "status": "completed"
    },
    "tags": []
   },
   "outputs": [
    {
     "name": "stdout",
     "output_type": "stream",
     "text": [
      "EfficientNetB2\n",
      "Epoch 1/100\n"
     ]
    },
    {
     "name": "stderr",
     "output_type": "stream",
     "text": [
      "2022-10-07 16:17:56.413707: I tensorflow/compiler/mlir/mlir_graph_optimization_pass.cc:185] None of the MLIR Optimization Passes are enabled (registered 2)\n",
      "2022-10-07 16:17:59.695017: I tensorflow/stream_executor/cuda/cuda_dnn.cc:369] Loaded cuDNN version 8005\n"
     ]
    },
    {
     "name": "stdout",
     "output_type": "stream",
     "text": [
      "1062/1062 [==============================] - 168s 144ms/step - loss: 1.1879 - accuracy: 0.4629 - auc: 0.7374 - val_loss: 0.9609 - val_accuracy: 0.5309 - val_auc: 0.8236\n",
      "\n",
      "Epoch 00001: val_loss improved from inf to 0.96088, saving model to EfficientNetB2_1\n"
     ]
    },
    {
     "name": "stderr",
     "output_type": "stream",
     "text": [
      "2022-10-07 16:20:55.658131: W tensorflow/python/util/util.cc:348] Sets are not currently considered sequences, but this may change in the future, so consider avoiding using them.\n",
      "/opt/conda/lib/python3.7/site-packages/keras/utils/generic_utils.py:497: CustomMaskWarning: Custom mask layers require a config and must override get_config. When loading, the custom mask layer must be passed to the custom_objects argument.\n",
      "  category=CustomMaskWarning)\n"
     ]
    },
    {
     "name": "stdout",
     "output_type": "stream",
     "text": [
      "Epoch 2/100\n",
      "1062/1062 [==============================] - 44s 41ms/step - loss: 0.9657 - accuracy: 0.5656 - auc: 0.8297 - val_loss: 0.9032 - val_accuracy: 0.5419 - val_auc: 0.8419\n",
      "\n",
      "Epoch 00002: val_loss improved from 0.96088 to 0.90324, saving model to EfficientNetB2_2\n"
     ]
    },
    {
     "name": "stderr",
     "output_type": "stream",
     "text": [
      "/opt/conda/lib/python3.7/site-packages/keras/utils/generic_utils.py:497: CustomMaskWarning: Custom mask layers require a config and must override get_config. When loading, the custom mask layer must be passed to the custom_objects argument.\n",
      "  category=CustomMaskWarning)\n"
     ]
    },
    {
     "name": "stdout",
     "output_type": "stream",
     "text": [
      "Epoch 3/100\n",
      "1062/1062 [==============================] - 45s 42ms/step - loss: 0.8840 - accuracy: 0.6028 - auc: 0.8579 - val_loss: 0.8336 - val_accuracy: 0.5987 - val_auc: 0.8659\n",
      "\n",
      "Epoch 00003: val_loss improved from 0.90324 to 0.83363, saving model to EfficientNetB2_3\n"
     ]
    },
    {
     "name": "stderr",
     "output_type": "stream",
     "text": [
      "/opt/conda/lib/python3.7/site-packages/keras/utils/generic_utils.py:497: CustomMaskWarning: Custom mask layers require a config and must override get_config. When loading, the custom mask layer must be passed to the custom_objects argument.\n",
      "  category=CustomMaskWarning)\n"
     ]
    },
    {
     "name": "stdout",
     "output_type": "stream",
     "text": [
      "Epoch 4/100\n",
      "1062/1062 [==============================] - 43s 41ms/step - loss: 0.8345 - accuracy: 0.6222 - auc: 0.8730 - val_loss: 0.8934 - val_accuracy: 0.5788 - val_auc: 0.8484\n",
      "\n",
      "Epoch 00004: val_loss did not improve from 0.83363\n",
      "Epoch 5/100\n",
      "1062/1062 [==============================] - 44s 41ms/step - loss: 0.7943 - accuracy: 0.6405 - auc: 0.8847 - val_loss: 0.7757 - val_accuracy: 0.6523 - val_auc: 0.8894\n",
      "\n",
      "Epoch 00005: val_loss improved from 0.83363 to 0.77565, saving model to EfficientNetB2_5\n"
     ]
    },
    {
     "name": "stderr",
     "output_type": "stream",
     "text": [
      "/opt/conda/lib/python3.7/site-packages/keras/utils/generic_utils.py:497: CustomMaskWarning: Custom mask layers require a config and must override get_config. When loading, the custom mask layer must be passed to the custom_objects argument.\n",
      "  category=CustomMaskWarning)\n"
     ]
    },
    {
     "name": "stdout",
     "output_type": "stream",
     "text": [
      "Epoch 6/100\n",
      "1062/1062 [==============================] - 44s 41ms/step - loss: 0.7638 - accuracy: 0.6578 - auc: 0.8940 - val_loss: 0.8456 - val_accuracy: 0.6094 - val_auc: 0.8654\n",
      "\n",
      "Epoch 00006: val_loss did not improve from 0.77565\n",
      "Epoch 7/100\n",
      "1062/1062 [==============================] - 43s 41ms/step - loss: 0.7455 - accuracy: 0.6665 - auc: 0.8986 - val_loss: 0.7238 - val_accuracy: 0.6469 - val_auc: 0.8988\n",
      "\n",
      "Epoch 00007: val_loss improved from 0.77565 to 0.72376, saving model to EfficientNetB2_7\n"
     ]
    },
    {
     "name": "stderr",
     "output_type": "stream",
     "text": [
      "/opt/conda/lib/python3.7/site-packages/keras/utils/generic_utils.py:497: CustomMaskWarning: Custom mask layers require a config and must override get_config. When loading, the custom mask layer must be passed to the custom_objects argument.\n",
      "  category=CustomMaskWarning)\n"
     ]
    },
    {
     "name": "stdout",
     "output_type": "stream",
     "text": [
      "Epoch 8/100\n",
      "1062/1062 [==============================] - 44s 41ms/step - loss: 0.7119 - accuracy: 0.6821 - auc: 0.9078 - val_loss: 0.7504 - val_accuracy: 0.6505 - val_auc: 0.8933\n",
      "\n",
      "Epoch 00008: val_loss did not improve from 0.72376\n",
      "Epoch 9/100\n",
      "1062/1062 [==============================] - 44s 41ms/step - loss: 0.6936 - accuracy: 0.6894 - auc: 0.9125 - val_loss: 0.6642 - val_accuracy: 0.6977 - val_auc: 0.9186\n",
      "\n",
      "Epoch 00009: val_loss improved from 0.72376 to 0.66425, saving model to EfficientNetB2_9\n"
     ]
    },
    {
     "name": "stderr",
     "output_type": "stream",
     "text": [
      "/opt/conda/lib/python3.7/site-packages/keras/utils/generic_utils.py:497: CustomMaskWarning: Custom mask layers require a config and must override get_config. When loading, the custom mask layer must be passed to the custom_objects argument.\n",
      "  category=CustomMaskWarning)\n"
     ]
    },
    {
     "name": "stdout",
     "output_type": "stream",
     "text": [
      "Epoch 10/100\n",
      "1062/1062 [==============================] - 44s 42ms/step - loss: 0.6746 - accuracy: 0.7012 - auc: 0.9175 - val_loss: 0.6902 - val_accuracy: 0.6698 - val_auc: 0.9086\n",
      "\n",
      "Epoch 00010: val_loss did not improve from 0.66425\n",
      "Epoch 11/100\n",
      "1062/1062 [==============================] - 44s 41ms/step - loss: 0.6598 - accuracy: 0.7054 - auc: 0.9210 - val_loss: 0.6179 - val_accuracy: 0.7175 - val_auc: 0.9279\n",
      "\n",
      "Epoch 00011: val_loss improved from 0.66425 to 0.61792, saving model to EfficientNetB2_11\n"
     ]
    },
    {
     "name": "stderr",
     "output_type": "stream",
     "text": [
      "/opt/conda/lib/python3.7/site-packages/keras/utils/generic_utils.py:497: CustomMaskWarning: Custom mask layers require a config and must override get_config. When loading, the custom mask layer must be passed to the custom_objects argument.\n",
      "  category=CustomMaskWarning)\n"
     ]
    },
    {
     "name": "stdout",
     "output_type": "stream",
     "text": [
      "Epoch 12/100\n",
      "1062/1062 [==============================] - 43s 41ms/step - loss: 0.6431 - accuracy: 0.7160 - auc: 0.9250 - val_loss: 0.6529 - val_accuracy: 0.7055 - val_auc: 0.9202\n",
      "\n",
      "Epoch 00012: val_loss did not improve from 0.61792\n",
      "Epoch 13/100\n",
      "1062/1062 [==============================] - 43s 41ms/step - loss: 0.6262 - accuracy: 0.7241 - auc: 0.9289 - val_loss: 0.6462 - val_accuracy: 0.7052 - val_auc: 0.9213\n",
      "\n",
      "Epoch 00013: val_loss did not improve from 0.61792\n",
      "Epoch 14/100\n",
      "1062/1062 [==============================] - 44s 41ms/step - loss: 0.6120 - accuracy: 0.7298 - auc: 0.9322 - val_loss: 0.5947 - val_accuracy: 0.7184 - val_auc: 0.9321\n",
      "\n",
      "Epoch 00014: val_loss improved from 0.61792 to 0.59471, saving model to EfficientNetB2_14\n"
     ]
    },
    {
     "name": "stderr",
     "output_type": "stream",
     "text": [
      "/opt/conda/lib/python3.7/site-packages/keras/utils/generic_utils.py:497: CustomMaskWarning: Custom mask layers require a config and must override get_config. When loading, the custom mask layer must be passed to the custom_objects argument.\n",
      "  category=CustomMaskWarning)\n"
     ]
    },
    {
     "name": "stdout",
     "output_type": "stream",
     "text": [
      "Epoch 15/100\n",
      "1062/1062 [==============================] - 44s 42ms/step - loss: 0.5996 - accuracy: 0.7352 - auc: 0.9347 - val_loss: 0.6059 - val_accuracy: 0.7216 - val_auc: 0.9307\n",
      "\n",
      "Epoch 00015: val_loss did not improve from 0.59471\n",
      "Epoch 16/100\n",
      "1062/1062 [==============================] - 48s 45ms/step - loss: 0.5856 - accuracy: 0.7452 - auc: 0.9381 - val_loss: 0.5155 - val_accuracy: 0.7720 - val_auc: 0.9515\n",
      "\n",
      "Epoch 00016: val_loss improved from 0.59471 to 0.51554, saving model to EfficientNetB2_16\n"
     ]
    },
    {
     "name": "stderr",
     "output_type": "stream",
     "text": [
      "/opt/conda/lib/python3.7/site-packages/keras/utils/generic_utils.py:497: CustomMaskWarning: Custom mask layers require a config and must override get_config. When loading, the custom mask layer must be passed to the custom_objects argument.\n",
      "  category=CustomMaskWarning)\n"
     ]
    },
    {
     "name": "stdout",
     "output_type": "stream",
     "text": [
      "Epoch 17/100\n",
      "1062/1062 [==============================] - 48s 45ms/step - loss: 0.5810 - accuracy: 0.7486 - auc: 0.9392 - val_loss: 0.5138 - val_accuracy: 0.7734 - val_auc: 0.9510\n",
      "\n",
      "Epoch 00017: val_loss improved from 0.51554 to 0.51385, saving model to EfficientNetB2_17\n"
     ]
    },
    {
     "name": "stderr",
     "output_type": "stream",
     "text": [
      "/opt/conda/lib/python3.7/site-packages/keras/utils/generic_utils.py:497: CustomMaskWarning: Custom mask layers require a config and must override get_config. When loading, the custom mask layer must be passed to the custom_objects argument.\n",
      "  category=CustomMaskWarning)\n"
     ]
    },
    {
     "name": "stdout",
     "output_type": "stream",
     "text": [
      "Epoch 18/100\n",
      "1062/1062 [==============================] - 45s 42ms/step - loss: 0.5604 - accuracy: 0.7559 - auc: 0.9434 - val_loss: 0.6032 - val_accuracy: 0.7314 - val_auc: 0.9323\n",
      "\n",
      "Epoch 00018: val_loss did not improve from 0.51385\n",
      "Epoch 19/100\n",
      "1062/1062 [==============================] - 45s 42ms/step - loss: 0.5535 - accuracy: 0.7602 - auc: 0.9447 - val_loss: 0.4849 - val_accuracy: 0.7867 - val_auc: 0.9565\n",
      "\n",
      "Epoch 00019: val_loss improved from 0.51385 to 0.48486, saving model to EfficientNetB2_19\n"
     ]
    },
    {
     "name": "stderr",
     "output_type": "stream",
     "text": [
      "/opt/conda/lib/python3.7/site-packages/keras/utils/generic_utils.py:497: CustomMaskWarning: Custom mask layers require a config and must override get_config. When loading, the custom mask layer must be passed to the custom_objects argument.\n",
      "  category=CustomMaskWarning)\n"
     ]
    },
    {
     "name": "stdout",
     "output_type": "stream",
     "text": [
      "Epoch 20/100\n",
      "1062/1062 [==============================] - 44s 41ms/step - loss: 0.5414 - accuracy: 0.7661 - auc: 0.9471 - val_loss: 0.4766 - val_accuracy: 0.7920 - val_auc: 0.9571\n",
      "\n",
      "Epoch 00020: val_loss improved from 0.48486 to 0.47659, saving model to EfficientNetB2_20\n"
     ]
    },
    {
     "name": "stderr",
     "output_type": "stream",
     "text": [
      "/opt/conda/lib/python3.7/site-packages/keras/utils/generic_utils.py:497: CustomMaskWarning: Custom mask layers require a config and must override get_config. When loading, the custom mask layer must be passed to the custom_objects argument.\n",
      "  category=CustomMaskWarning)\n"
     ]
    },
    {
     "name": "stdout",
     "output_type": "stream",
     "text": [
      "Epoch 21/100\n",
      "1062/1062 [==============================] - 44s 41ms/step - loss: 0.5314 - accuracy: 0.7685 - auc: 0.9490 - val_loss: 0.4826 - val_accuracy: 0.7848 - val_auc: 0.9555\n",
      "\n",
      "Epoch 00021: val_loss did not improve from 0.47659\n",
      "Epoch 22/100\n",
      "1062/1062 [==============================] - 44s 41ms/step - loss: 0.5146 - accuracy: 0.7792 - auc: 0.9521 - val_loss: 0.4589 - val_accuracy: 0.7983 - val_auc: 0.9603\n",
      "\n",
      "Epoch 00022: val_loss improved from 0.47659 to 0.45886, saving model to EfficientNetB2_22\n"
     ]
    },
    {
     "name": "stderr",
     "output_type": "stream",
     "text": [
      "/opt/conda/lib/python3.7/site-packages/keras/utils/generic_utils.py:497: CustomMaskWarning: Custom mask layers require a config and must override get_config. When loading, the custom mask layer must be passed to the custom_objects argument.\n",
      "  category=CustomMaskWarning)\n"
     ]
    },
    {
     "name": "stdout",
     "output_type": "stream",
     "text": [
      "Epoch 23/100\n",
      "1062/1062 [==============================] - 46s 43ms/step - loss: 0.5129 - accuracy: 0.7789 - auc: 0.9526 - val_loss: 0.4473 - val_accuracy: 0.8037 - val_auc: 0.9626\n",
      "\n",
      "Epoch 00023: val_loss improved from 0.45886 to 0.44728, saving model to EfficientNetB2_23\n"
     ]
    },
    {
     "name": "stderr",
     "output_type": "stream",
     "text": [
      "/opt/conda/lib/python3.7/site-packages/keras/utils/generic_utils.py:497: CustomMaskWarning: Custom mask layers require a config and must override get_config. When loading, the custom mask layer must be passed to the custom_objects argument.\n",
      "  category=CustomMaskWarning)\n"
     ]
    },
    {
     "name": "stdout",
     "output_type": "stream",
     "text": [
      "Epoch 24/100\n",
      "1062/1062 [==============================] - 47s 44ms/step - loss: 0.5018 - accuracy: 0.7860 - auc: 0.9548 - val_loss: 0.3998 - val_accuracy: 0.8334 - val_auc: 0.9723\n",
      "\n",
      "Epoch 00024: val_loss improved from 0.44728 to 0.39984, saving model to EfficientNetB2_24\n"
     ]
    },
    {
     "name": "stderr",
     "output_type": "stream",
     "text": [
      "/opt/conda/lib/python3.7/site-packages/keras/utils/generic_utils.py:497: CustomMaskWarning: Custom mask layers require a config and must override get_config. When loading, the custom mask layer must be passed to the custom_objects argument.\n",
      "  category=CustomMaskWarning)\n"
     ]
    },
    {
     "name": "stdout",
     "output_type": "stream",
     "text": [
      "Epoch 25/100\n",
      "1062/1062 [==============================] - 45s 42ms/step - loss: 0.4904 - accuracy: 0.7906 - auc: 0.9566 - val_loss: 0.5507 - val_accuracy: 0.7595 - val_auc: 0.9446\n",
      "\n",
      "Epoch 00025: val_loss did not improve from 0.39984\n",
      "Epoch 26/100\n",
      "1062/1062 [==============================] - 46s 43ms/step - loss: 0.4791 - accuracy: 0.7961 - auc: 0.9588 - val_loss: 0.4064 - val_accuracy: 0.8256 - val_auc: 0.9692\n",
      "\n",
      "Epoch 00026: val_loss did not improve from 0.39984\n",
      "Epoch 27/100\n",
      "1062/1062 [==============================] - 45s 42ms/step - loss: 0.4726 - accuracy: 0.7988 - auc: 0.9597 - val_loss: 0.3791 - val_accuracy: 0.8420 - val_auc: 0.9736\n",
      "\n",
      "Epoch 00027: val_loss improved from 0.39984 to 0.37913, saving model to EfficientNetB2_27\n"
     ]
    },
    {
     "name": "stderr",
     "output_type": "stream",
     "text": [
      "/opt/conda/lib/python3.7/site-packages/keras/utils/generic_utils.py:497: CustomMaskWarning: Custom mask layers require a config and must override get_config. When loading, the custom mask layer must be passed to the custom_objects argument.\n",
      "  category=CustomMaskWarning)\n"
     ]
    },
    {
     "name": "stdout",
     "output_type": "stream",
     "text": [
      "Epoch 28/100\n",
      "1062/1062 [==============================] - 46s 44ms/step - loss: 0.4617 - accuracy: 0.8030 - auc: 0.9616 - val_loss: 0.4063 - val_accuracy: 0.8252 - val_auc: 0.9686\n",
      "\n",
      "Epoch 00028: val_loss did not improve from 0.37913\n",
      "Epoch 29/100\n",
      "1062/1062 [==============================] - 47s 44ms/step - loss: 0.4603 - accuracy: 0.8061 - auc: 0.9619 - val_loss: 0.3543 - val_accuracy: 0.8542 - val_auc: 0.9777\n",
      "\n",
      "Epoch 00029: val_loss improved from 0.37913 to 0.35431, saving model to EfficientNetB2_29\n"
     ]
    },
    {
     "name": "stderr",
     "output_type": "stream",
     "text": [
      "/opt/conda/lib/python3.7/site-packages/keras/utils/generic_utils.py:497: CustomMaskWarning: Custom mask layers require a config and must override get_config. When loading, the custom mask layer must be passed to the custom_objects argument.\n",
      "  category=CustomMaskWarning)\n"
     ]
    },
    {
     "name": "stdout",
     "output_type": "stream",
     "text": [
      "Epoch 30/100\n",
      "1062/1062 [==============================] - 48s 45ms/step - loss: 0.4544 - accuracy: 0.8087 - auc: 0.9629 - val_loss: 0.3953 - val_accuracy: 0.8405 - val_auc: 0.9716\n",
      "\n",
      "Epoch 00030: val_loss did not improve from 0.35431\n",
      "Epoch 31/100\n",
      "1062/1062 [==============================] - 47s 44ms/step - loss: 0.4429 - accuracy: 0.8136 - auc: 0.9646 - val_loss: 0.3731 - val_accuracy: 0.8459 - val_auc: 0.9741\n",
      "\n",
      "Epoch 00031: val_loss did not improve from 0.35431\n",
      "Epoch 32/100\n",
      "1062/1062 [==============================] - 47s 44ms/step - loss: 0.4350 - accuracy: 0.8161 - auc: 0.9659 - val_loss: 0.3690 - val_accuracy: 0.8528 - val_auc: 0.9748\n",
      "\n",
      "Epoch 00032: val_loss did not improve from 0.35431\n",
      "Epoch 33/100\n",
      "1062/1062 [==============================] - 47s 44ms/step - loss: 0.4374 - accuracy: 0.8179 - auc: 0.9657 - val_loss: 0.3534 - val_accuracy: 0.8534 - val_auc: 0.9768\n",
      "\n",
      "Epoch 00033: val_loss improved from 0.35431 to 0.35342, saving model to EfficientNetB2_33\n"
     ]
    },
    {
     "name": "stderr",
     "output_type": "stream",
     "text": [
      "/opt/conda/lib/python3.7/site-packages/keras/utils/generic_utils.py:497: CustomMaskWarning: Custom mask layers require a config and must override get_config. When loading, the custom mask layer must be passed to the custom_objects argument.\n",
      "  category=CustomMaskWarning)\n"
     ]
    },
    {
     "name": "stdout",
     "output_type": "stream",
     "text": [
      "Epoch 34/100\n",
      "1062/1062 [==============================] - 46s 43ms/step - loss: 0.4295 - accuracy: 0.8207 - auc: 0.9668 - val_loss: 0.3285 - val_accuracy: 0.8750 - val_auc: 0.9816\n",
      "\n",
      "Epoch 00034: val_loss improved from 0.35342 to 0.32855, saving model to EfficientNetB2_34\n"
     ]
    },
    {
     "name": "stderr",
     "output_type": "stream",
     "text": [
      "/opt/conda/lib/python3.7/site-packages/keras/utils/generic_utils.py:497: CustomMaskWarning: Custom mask layers require a config and must override get_config. When loading, the custom mask layer must be passed to the custom_objects argument.\n",
      "  category=CustomMaskWarning)\n"
     ]
    },
    {
     "name": "stdout",
     "output_type": "stream",
     "text": [
      "Epoch 35/100\n",
      "1062/1062 [==============================] - 48s 45ms/step - loss: 0.4120 - accuracy: 0.8275 - auc: 0.9694 - val_loss: 0.4453 - val_accuracy: 0.8175 - val_auc: 0.9641\n",
      "\n",
      "Epoch 00035: val_loss did not improve from 0.32855\n",
      "Epoch 36/100\n",
      "1062/1062 [==============================] - 48s 45ms/step - loss: 0.4105 - accuracy: 0.8294 - auc: 0.9697 - val_loss: 0.3507 - val_accuracy: 0.8556 - val_auc: 0.9771\n",
      "\n",
      "Epoch 00036: val_loss did not improve from 0.32855\n",
      "Epoch 37/100\n",
      "1062/1062 [==============================] - 47s 44ms/step - loss: 0.4086 - accuracy: 0.8294 - auc: 0.9699 - val_loss: 0.3190 - val_accuracy: 0.8720 - val_auc: 0.9807\n",
      "\n",
      "Epoch 00037: val_loss improved from 0.32855 to 0.31900, saving model to EfficientNetB2_37\n"
     ]
    },
    {
     "name": "stderr",
     "output_type": "stream",
     "text": [
      "/opt/conda/lib/python3.7/site-packages/keras/utils/generic_utils.py:497: CustomMaskWarning: Custom mask layers require a config and must override get_config. When loading, the custom mask layer must be passed to the custom_objects argument.\n",
      "  category=CustomMaskWarning)\n"
     ]
    },
    {
     "name": "stdout",
     "output_type": "stream",
     "text": [
      "Epoch 38/100\n",
      "1062/1062 [==============================] - 48s 45ms/step - loss: 0.3987 - accuracy: 0.8359 - auc: 0.9714 - val_loss: 0.3663 - val_accuracy: 0.8520 - val_auc: 0.9746\n",
      "\n",
      "Epoch 00038: val_loss did not improve from 0.31900\n",
      "Epoch 39/100\n",
      "1062/1062 [==============================] - 47s 44ms/step - loss: 0.3903 - accuracy: 0.8392 - auc: 0.9726 - val_loss: 0.2784 - val_accuracy: 0.8869 - val_auc: 0.9858\n",
      "\n",
      "Epoch 00039: val_loss improved from 0.31900 to 0.27842, saving model to EfficientNetB2_39\n"
     ]
    },
    {
     "name": "stderr",
     "output_type": "stream",
     "text": [
      "/opt/conda/lib/python3.7/site-packages/keras/utils/generic_utils.py:497: CustomMaskWarning: Custom mask layers require a config and must override get_config. When loading, the custom mask layer must be passed to the custom_objects argument.\n",
      "  category=CustomMaskWarning)\n"
     ]
    },
    {
     "name": "stdout",
     "output_type": "stream",
     "text": [
      "Epoch 40/100\n",
      "1062/1062 [==============================] - 47s 44ms/step - loss: 0.3874 - accuracy: 0.8402 - auc: 0.9728 - val_loss: 0.2923 - val_accuracy: 0.8869 - val_auc: 0.9838\n",
      "\n",
      "Epoch 00040: val_loss did not improve from 0.27842\n",
      "Epoch 41/100\n",
      "1062/1062 [==============================] - 48s 45ms/step - loss: 0.3855 - accuracy: 0.8370 - auc: 0.9730 - val_loss: 0.3082 - val_accuracy: 0.8783 - val_auc: 0.9821\n",
      "\n",
      "Epoch 00041: val_loss did not improve from 0.27842\n",
      "Epoch 42/100\n",
      "1062/1062 [==============================] - 47s 44ms/step - loss: 0.3746 - accuracy: 0.8450 - auc: 0.9746 - val_loss: 0.2740 - val_accuracy: 0.8889 - val_auc: 0.9860\n",
      "\n",
      "Epoch 00042: val_loss improved from 0.27842 to 0.27404, saving model to EfficientNetB2_42\n"
     ]
    },
    {
     "name": "stderr",
     "output_type": "stream",
     "text": [
      "/opt/conda/lib/python3.7/site-packages/keras/utils/generic_utils.py:497: CustomMaskWarning: Custom mask layers require a config and must override get_config. When loading, the custom mask layer must be passed to the custom_objects argument.\n",
      "  category=CustomMaskWarning)\n"
     ]
    },
    {
     "name": "stdout",
     "output_type": "stream",
     "text": [
      "Epoch 43/100\n",
      "1062/1062 [==============================] - 48s 45ms/step - loss: 0.3721 - accuracy: 0.8467 - auc: 0.9750 - val_loss: 0.2375 - val_accuracy: 0.9056 - val_auc: 0.9900\n",
      "\n",
      "Epoch 00043: val_loss improved from 0.27404 to 0.23752, saving model to EfficientNetB2_43\n"
     ]
    },
    {
     "name": "stderr",
     "output_type": "stream",
     "text": [
      "/opt/conda/lib/python3.7/site-packages/keras/utils/generic_utils.py:497: CustomMaskWarning: Custom mask layers require a config and must override get_config. When loading, the custom mask layer must be passed to the custom_objects argument.\n",
      "  category=CustomMaskWarning)\n"
     ]
    },
    {
     "name": "stdout",
     "output_type": "stream",
     "text": [
      "Epoch 44/100\n",
      "1062/1062 [==============================] - 48s 45ms/step - loss: 0.3699 - accuracy: 0.8465 - auc: 0.9752 - val_loss: 0.2522 - val_accuracy: 0.9034 - val_auc: 0.9892\n",
      "\n",
      "Epoch 00044: val_loss did not improve from 0.23752\n",
      "Epoch 45/100\n",
      "1062/1062 [==============================] - 48s 45ms/step - loss: 0.3591 - accuracy: 0.8525 - auc: 0.9766 - val_loss: 0.2327 - val_accuracy: 0.9092 - val_auc: 0.9903\n",
      "\n",
      "Epoch 00045: val_loss improved from 0.23752 to 0.23269, saving model to EfficientNetB2_45\n"
     ]
    },
    {
     "name": "stderr",
     "output_type": "stream",
     "text": [
      "/opt/conda/lib/python3.7/site-packages/keras/utils/generic_utils.py:497: CustomMaskWarning: Custom mask layers require a config and must override get_config. When loading, the custom mask layer must be passed to the custom_objects argument.\n",
      "  category=CustomMaskWarning)\n"
     ]
    },
    {
     "name": "stdout",
     "output_type": "stream",
     "text": [
      "Epoch 46/100\n",
      "1062/1062 [==============================] - 47s 44ms/step - loss: 0.3564 - accuracy: 0.8543 - auc: 0.9770 - val_loss: 0.2853 - val_accuracy: 0.8875 - val_auc: 0.9846\n",
      "\n",
      "Epoch 00046: val_loss did not improve from 0.23269\n",
      "Epoch 47/100\n",
      "1062/1062 [==============================] - 48s 45ms/step - loss: 0.3453 - accuracy: 0.8598 - auc: 0.9784 - val_loss: 0.2152 - val_accuracy: 0.9134 - val_auc: 0.9917\n",
      "\n",
      "Epoch 00047: val_loss improved from 0.23269 to 0.21519, saving model to EfficientNetB2_47\n"
     ]
    },
    {
     "name": "stderr",
     "output_type": "stream",
     "text": [
      "/opt/conda/lib/python3.7/site-packages/keras/utils/generic_utils.py:497: CustomMaskWarning: Custom mask layers require a config and must override get_config. When loading, the custom mask layer must be passed to the custom_objects argument.\n",
      "  category=CustomMaskWarning)\n"
     ]
    },
    {
     "name": "stdout",
     "output_type": "stream",
     "text": [
      "Epoch 48/100\n",
      "1062/1062 [==============================] - 47s 44ms/step - loss: 0.3487 - accuracy: 0.8583 - auc: 0.9779 - val_loss: 0.2096 - val_accuracy: 0.9214 - val_auc: 0.9930\n",
      "\n",
      "Epoch 00048: val_loss improved from 0.21519 to 0.20956, saving model to EfficientNetB2_48\n"
     ]
    },
    {
     "name": "stderr",
     "output_type": "stream",
     "text": [
      "/opt/conda/lib/python3.7/site-packages/keras/utils/generic_utils.py:497: CustomMaskWarning: Custom mask layers require a config and must override get_config. When loading, the custom mask layer must be passed to the custom_objects argument.\n",
      "  category=CustomMaskWarning)\n"
     ]
    },
    {
     "name": "stdout",
     "output_type": "stream",
     "text": [
      "Epoch 49/100\n",
      "1062/1062 [==============================] - 48s 44ms/step - loss: 0.3469 - accuracy: 0.8601 - auc: 0.9783 - val_loss: 0.2102 - val_accuracy: 0.9152 - val_auc: 0.9921\n",
      "\n",
      "Epoch 00049: val_loss did not improve from 0.20956\n",
      "Epoch 50/100\n",
      "1062/1062 [==============================] - 47s 44ms/step - loss: 0.3380 - accuracy: 0.8652 - auc: 0.9792 - val_loss: 0.1973 - val_accuracy: 0.9259 - val_auc: 0.9931\n",
      "\n",
      "Epoch 00050: val_loss improved from 0.20956 to 0.19729, saving model to EfficientNetB2_50\n"
     ]
    },
    {
     "name": "stderr",
     "output_type": "stream",
     "text": [
      "/opt/conda/lib/python3.7/site-packages/keras/utils/generic_utils.py:497: CustomMaskWarning: Custom mask layers require a config and must override get_config. When loading, the custom mask layer must be passed to the custom_objects argument.\n",
      "  category=CustomMaskWarning)\n"
     ]
    },
    {
     "name": "stdout",
     "output_type": "stream",
     "text": [
      "Epoch 51/100\n",
      "1062/1062 [==============================] - 49s 46ms/step - loss: 0.3312 - accuracy: 0.8637 - auc: 0.9801 - val_loss: 0.2259 - val_accuracy: 0.9125 - val_auc: 0.9904\n",
      "\n",
      "Epoch 00051: val_loss did not improve from 0.19729\n",
      "Epoch 52/100\n",
      "1062/1062 [==============================] - 47s 44ms/step - loss: 0.3285 - accuracy: 0.8676 - auc: 0.9804 - val_loss: 0.2228 - val_accuracy: 0.9125 - val_auc: 0.9906\n",
      "\n",
      "Epoch 00052: val_loss did not improve from 0.19729\n",
      "Epoch 53/100\n",
      "1062/1062 [==============================] - 48s 45ms/step - loss: 0.3288 - accuracy: 0.8670 - auc: 0.9803 - val_loss: 0.1868 - val_accuracy: 0.9273 - val_auc: 0.9936\n",
      "\n",
      "Epoch 00053: val_loss improved from 0.19729 to 0.18685, saving model to EfficientNetB2_53\n"
     ]
    },
    {
     "name": "stderr",
     "output_type": "stream",
     "text": [
      "/opt/conda/lib/python3.7/site-packages/keras/utils/generic_utils.py:497: CustomMaskWarning: Custom mask layers require a config and must override get_config. When loading, the custom mask layer must be passed to the custom_objects argument.\n",
      "  category=CustomMaskWarning)\n"
     ]
    },
    {
     "name": "stdout",
     "output_type": "stream",
     "text": [
      "Epoch 54/100\n",
      "1062/1062 [==============================] - 48s 45ms/step - loss: 0.3187 - accuracy: 0.8713 - auc: 0.9814 - val_loss: 0.2237 - val_accuracy: 0.9117 - val_auc: 0.9902\n",
      "\n",
      "Epoch 00054: val_loss did not improve from 0.18685\n",
      "Epoch 55/100\n",
      "1062/1062 [==============================] - 48s 45ms/step - loss: 0.3166 - accuracy: 0.8726 - auc: 0.9818 - val_loss: 0.2162 - val_accuracy: 0.9177 - val_auc: 0.9912\n",
      "\n",
      "Epoch 00055: val_loss did not improve from 0.18685\n",
      "Epoch 56/100\n",
      "1062/1062 [==============================] - 48s 45ms/step - loss: 0.3183 - accuracy: 0.8717 - auc: 0.9815 - val_loss: 0.1944 - val_accuracy: 0.9272 - val_auc: 0.9932\n",
      "\n",
      "Epoch 00056: val_loss did not improve from 0.18685\n",
      "Epoch 57/100\n",
      "1062/1062 [==============================] - 48s 45ms/step - loss: 0.3125 - accuracy: 0.8735 - auc: 0.9821 - val_loss: 0.1977 - val_accuracy: 0.9233 - val_auc: 0.9928\n",
      "\n",
      "Epoch 00057: val_loss did not improve from 0.18685\n",
      "Epoch 58/100\n",
      "1062/1062 [==============================] - 47s 44ms/step - loss: 0.3097 - accuracy: 0.8765 - auc: 0.9824 - val_loss: 0.1762 - val_accuracy: 0.9316 - val_auc: 0.9944\n",
      "\n",
      "Epoch 00058: val_loss improved from 0.18685 to 0.17619, saving model to EfficientNetB2_58\n"
     ]
    },
    {
     "name": "stderr",
     "output_type": "stream",
     "text": [
      "/opt/conda/lib/python3.7/site-packages/keras/utils/generic_utils.py:497: CustomMaskWarning: Custom mask layers require a config and must override get_config. When loading, the custom mask layer must be passed to the custom_objects argument.\n",
      "  category=CustomMaskWarning)\n"
     ]
    },
    {
     "name": "stdout",
     "output_type": "stream",
     "text": [
      "Epoch 59/100\n",
      "1062/1062 [==============================] - 49s 46ms/step - loss: 0.3048 - accuracy: 0.8767 - auc: 0.9830 - val_loss: 0.2473 - val_accuracy: 0.9011 - val_auc: 0.9880\n",
      "\n",
      "Epoch 00059: val_loss did not improve from 0.17619\n",
      "Epoch 60/100\n",
      "1062/1062 [==============================] - 46s 44ms/step - loss: 0.3008 - accuracy: 0.8787 - auc: 0.9835 - val_loss: 0.1841 - val_accuracy: 0.9273 - val_auc: 0.9934\n",
      "\n",
      "Epoch 00060: val_loss did not improve from 0.17619\n",
      "Epoch 61/100\n",
      "1062/1062 [==============================] - 48s 45ms/step - loss: 0.2994 - accuracy: 0.8791 - auc: 0.9836 - val_loss: 0.1771 - val_accuracy: 0.9331 - val_auc: 0.9941\n",
      "\n",
      "Epoch 00061: val_loss did not improve from 0.17619\n",
      "Epoch 62/100\n",
      "1062/1062 [==============================] - 47s 44ms/step - loss: 0.2950 - accuracy: 0.8821 - auc: 0.9840 - val_loss: 0.1780 - val_accuracy: 0.9316 - val_auc: 0.9941\n",
      "\n",
      "Epoch 00062: val_loss did not improve from 0.17619\n",
      "Epoch 63/100\n",
      "1062/1062 [==============================] - 47s 44ms/step - loss: 0.2913 - accuracy: 0.8821 - auc: 0.9844 - val_loss: 0.1706 - val_accuracy: 0.9352 - val_auc: 0.9943\n",
      "\n",
      "Epoch 00063: val_loss improved from 0.17619 to 0.17062, saving model to EfficientNetB2_63\n"
     ]
    },
    {
     "name": "stderr",
     "output_type": "stream",
     "text": [
      "/opt/conda/lib/python3.7/site-packages/keras/utils/generic_utils.py:497: CustomMaskWarning: Custom mask layers require a config and must override get_config. When loading, the custom mask layer must be passed to the custom_objects argument.\n",
      "  category=CustomMaskWarning)\n"
     ]
    },
    {
     "name": "stdout",
     "output_type": "stream",
     "text": [
      "Epoch 64/100\n",
      "1062/1062 [==============================] - 49s 46ms/step - loss: 0.2857 - accuracy: 0.8856 - auc: 0.9850 - val_loss: 0.1583 - val_accuracy: 0.9402 - val_auc: 0.9952\n",
      "\n",
      "Epoch 00064: val_loss improved from 0.17062 to 0.15831, saving model to EfficientNetB2_64\n"
     ]
    },
    {
     "name": "stderr",
     "output_type": "stream",
     "text": [
      "/opt/conda/lib/python3.7/site-packages/keras/utils/generic_utils.py:497: CustomMaskWarning: Custom mask layers require a config and must override get_config. When loading, the custom mask layer must be passed to the custom_objects argument.\n",
      "  category=CustomMaskWarning)\n"
     ]
    },
    {
     "name": "stdout",
     "output_type": "stream",
     "text": [
      "Epoch 65/100\n",
      "1062/1062 [==============================] - 49s 46ms/step - loss: 0.2897 - accuracy: 0.8854 - auc: 0.9846 - val_loss: 0.2142 - val_accuracy: 0.9173 - val_auc: 0.9909\n",
      "\n",
      "Epoch 00065: val_loss did not improve from 0.15831\n",
      "Epoch 66/100\n",
      "1062/1062 [==============================] - 52s 49ms/step - loss: 0.2863 - accuracy: 0.8855 - auc: 0.9850 - val_loss: 0.1425 - val_accuracy: 0.9461 - val_auc: 0.9963\n",
      "\n",
      "Epoch 00066: val_loss improved from 0.15831 to 0.14249, saving model to EfficientNetB2_66\n"
     ]
    },
    {
     "name": "stderr",
     "output_type": "stream",
     "text": [
      "/opt/conda/lib/python3.7/site-packages/keras/utils/generic_utils.py:497: CustomMaskWarning: Custom mask layers require a config and must override get_config. When loading, the custom mask layer must be passed to the custom_objects argument.\n",
      "  category=CustomMaskWarning)\n"
     ]
    },
    {
     "name": "stdout",
     "output_type": "stream",
     "text": [
      "Epoch 67/100\n",
      "1062/1062 [==============================] - 48s 45ms/step - loss: 0.2814 - accuracy: 0.8871 - auc: 0.9854 - val_loss: 0.1611 - val_accuracy: 0.9370 - val_auc: 0.9948\n",
      "\n",
      "Epoch 00067: val_loss did not improve from 0.14249\n",
      "Epoch 68/100\n",
      "1062/1062 [==============================] - 49s 46ms/step - loss: 0.2788 - accuracy: 0.8884 - auc: 0.9857 - val_loss: 0.1340 - val_accuracy: 0.9550 - val_auc: 0.9966\n",
      "\n",
      "Epoch 00068: val_loss improved from 0.14249 to 0.13397, saving model to EfficientNetB2_68\n"
     ]
    },
    {
     "name": "stderr",
     "output_type": "stream",
     "text": [
      "/opt/conda/lib/python3.7/site-packages/keras/utils/generic_utils.py:497: CustomMaskWarning: Custom mask layers require a config and must override get_config. When loading, the custom mask layer must be passed to the custom_objects argument.\n",
      "  category=CustomMaskWarning)\n"
     ]
    },
    {
     "name": "stdout",
     "output_type": "stream",
     "text": [
      "Epoch 69/100\n",
      "1062/1062 [==============================] - 48s 45ms/step - loss: 0.2785 - accuracy: 0.8897 - auc: 0.9857 - val_loss: 0.1564 - val_accuracy: 0.9414 - val_auc: 0.9951\n",
      "\n",
      "Epoch 00069: val_loss did not improve from 0.13397\n",
      "Epoch 70/100\n",
      "1062/1062 [==============================] - 47s 44ms/step - loss: 0.2762 - accuracy: 0.8880 - auc: 0.9859 - val_loss: 0.2319 - val_accuracy: 0.9103 - val_auc: 0.9895\n",
      "\n",
      "Epoch 00070: val_loss did not improve from 0.13397\n",
      "Epoch 71/100\n",
      "1062/1062 [==============================] - 47s 44ms/step - loss: 0.2729 - accuracy: 0.8917 - auc: 0.9862 - val_loss: 0.1534 - val_accuracy: 0.9406 - val_auc: 0.9952\n",
      "\n",
      "Epoch 00071: val_loss did not improve from 0.13397\n",
      "Epoch 72/100\n",
      "1062/1062 [==============================] - 48s 45ms/step - loss: 0.2719 - accuracy: 0.8924 - auc: 0.9864 - val_loss: 0.1587 - val_accuracy: 0.9405 - val_auc: 0.9948\n",
      "\n",
      "Epoch 00072: val_loss did not improve from 0.13397\n",
      "Epoch 73/100\n",
      "1062/1062 [==============================] - 47s 44ms/step - loss: 0.2650 - accuracy: 0.8954 - auc: 0.9869 - val_loss: 0.1765 - val_accuracy: 0.9314 - val_auc: 0.9937\n",
      "\n",
      "Epoch 00073: val_loss did not improve from 0.13397\n",
      "Epoch 74/100\n",
      "1062/1062 [==============================] - 47s 44ms/step - loss: 0.2670 - accuracy: 0.8940 - auc: 0.9868 - val_loss: 0.2003 - val_accuracy: 0.9206 - val_auc: 0.9919\n",
      "\n",
      "Epoch 00074: val_loss did not improve from 0.13397\n",
      "Epoch 75/100\n",
      "1062/1062 [==============================] - 48s 45ms/step - loss: 0.2631 - accuracy: 0.8946 - auc: 0.9871 - val_loss: 0.1572 - val_accuracy: 0.9431 - val_auc: 0.9949\n",
      "\n",
      "Epoch 00075: val_loss did not improve from 0.13397\n",
      "Epoch 76/100\n",
      "1062/1062 [==============================] - 48s 45ms/step - loss: 0.2635 - accuracy: 0.8974 - auc: 0.9871 - val_loss: 0.1381 - val_accuracy: 0.9477 - val_auc: 0.9965\n",
      "\n",
      "Epoch 00076: val_loss did not improve from 0.13397\n",
      "Epoch 77/100\n",
      "1062/1062 [==============================] - 47s 44ms/step - loss: 0.2615 - accuracy: 0.8952 - auc: 0.9872 - val_loss: 0.1831 - val_accuracy: 0.9339 - val_auc: 0.9929\n",
      "\n",
      "Epoch 00077: val_loss did not improve from 0.13397\n",
      "Epoch 78/100\n",
      "1062/1062 [==============================] - 49s 45ms/step - loss: 0.2499 - accuracy: 0.9012 - auc: 0.9884 - val_loss: 0.1334 - val_accuracy: 0.9481 - val_auc: 0.9965\n",
      "\n",
      "Epoch 00078: val_loss improved from 0.13397 to 0.13343, saving model to EfficientNetB2_78\n"
     ]
    },
    {
     "name": "stderr",
     "output_type": "stream",
     "text": [
      "/opt/conda/lib/python3.7/site-packages/keras/utils/generic_utils.py:497: CustomMaskWarning: Custom mask layers require a config and must override get_config. When loading, the custom mask layer must be passed to the custom_objects argument.\n",
      "  category=CustomMaskWarning)\n"
     ]
    },
    {
     "name": "stdout",
     "output_type": "stream",
     "text": [
      "Epoch 00078: early stopping\n",
      "Xception\n",
      "Epoch 1/100\n",
      "1062/1062 [==============================] - 50s 43ms/step - loss: 1.3240 - accuracy: 0.4639 - auc: 0.7386 - val_loss: 0.9218 - val_accuracy: 0.5247 - val_auc: 0.8308\n",
      "\n",
      "Epoch 00001: val_loss improved from inf to 0.92183, saving model to Xception_1\n"
     ]
    },
    {
     "name": "stderr",
     "output_type": "stream",
     "text": [
      "/opt/conda/lib/python3.7/site-packages/keras/utils/generic_utils.py:497: CustomMaskWarning: Custom mask layers require a config and must override get_config. When loading, the custom mask layer must be passed to the custom_objects argument.\n",
      "  category=CustomMaskWarning)\n"
     ]
    },
    {
     "name": "stdout",
     "output_type": "stream",
     "text": [
      "Epoch 2/100\n",
      "1062/1062 [==============================] - 44s 41ms/step - loss: 0.9870 - accuracy: 0.5484 - auc: 0.8192 - val_loss: 0.9138 - val_accuracy: 0.5473 - val_auc: 0.8346\n",
      "\n",
      "Epoch 00002: val_loss improved from 0.92183 to 0.91377, saving model to Xception_2\n"
     ]
    },
    {
     "name": "stderr",
     "output_type": "stream",
     "text": [
      "/opt/conda/lib/python3.7/site-packages/keras/utils/generic_utils.py:497: CustomMaskWarning: Custom mask layers require a config and must override get_config. When loading, the custom mask layer must be passed to the custom_objects argument.\n",
      "  category=CustomMaskWarning)\n"
     ]
    },
    {
     "name": "stdout",
     "output_type": "stream",
     "text": [
      "Epoch 3/100\n",
      "1062/1062 [==============================] - 44s 41ms/step - loss: 0.9196 - accuracy: 0.5796 - auc: 0.8433 - val_loss: 0.8713 - val_accuracy: 0.5644 - val_auc: 0.8508\n",
      "\n",
      "Epoch 00003: val_loss improved from 0.91377 to 0.87129, saving model to Xception_3\n"
     ]
    },
    {
     "name": "stderr",
     "output_type": "stream",
     "text": [
      "/opt/conda/lib/python3.7/site-packages/keras/utils/generic_utils.py:497: CustomMaskWarning: Custom mask layers require a config and must override get_config. When loading, the custom mask layer must be passed to the custom_objects argument.\n",
      "  category=CustomMaskWarning)\n"
     ]
    },
    {
     "name": "stdout",
     "output_type": "stream",
     "text": [
      "Epoch 4/100\n",
      "1062/1062 [==============================] - 44s 41ms/step - loss: 0.8813 - accuracy: 0.5917 - auc: 0.8560 - val_loss: 0.9033 - val_accuracy: 0.5442 - val_auc: 0.8339\n",
      "\n",
      "Epoch 00004: val_loss did not improve from 0.87129\n",
      "Epoch 5/100\n",
      "1062/1062 [==============================] - 42s 39ms/step - loss: 0.8500 - accuracy: 0.6119 - auc: 0.8667 - val_loss: 0.8777 - val_accuracy: 0.5639 - val_auc: 0.8453\n",
      "\n",
      "Epoch 00005: val_loss did not improve from 0.87129\n",
      "Epoch 6/100\n",
      "1062/1062 [==============================] - 44s 41ms/step - loss: 0.8167 - accuracy: 0.6238 - auc: 0.8767 - val_loss: 0.7902 - val_accuracy: 0.6020 - val_auc: 0.8751\n",
      "\n",
      "Epoch 00006: val_loss improved from 0.87129 to 0.79023, saving model to Xception_6\n"
     ]
    },
    {
     "name": "stderr",
     "output_type": "stream",
     "text": [
      "/opt/conda/lib/python3.7/site-packages/keras/utils/generic_utils.py:497: CustomMaskWarning: Custom mask layers require a config and must override get_config. When loading, the custom mask layer must be passed to the custom_objects argument.\n",
      "  category=CustomMaskWarning)\n"
     ]
    },
    {
     "name": "stdout",
     "output_type": "stream",
     "text": [
      "Epoch 7/100\n",
      "1062/1062 [==============================] - 44s 42ms/step - loss: 0.7915 - accuracy: 0.6379 - auc: 0.8843 - val_loss: 0.8553 - val_accuracy: 0.5795 - val_auc: 0.8556\n",
      "\n",
      "Epoch 00007: val_loss did not improve from 0.79023\n",
      "Epoch 8/100\n",
      "1062/1062 [==============================] - 44s 41ms/step - loss: 0.7645 - accuracy: 0.6545 - auc: 0.8926 - val_loss: 0.7992 - val_accuracy: 0.6194 - val_auc: 0.8751\n",
      "\n",
      "Epoch 00008: val_loss did not improve from 0.79023\n",
      "Epoch 9/100\n",
      "1062/1062 [==============================] - 44s 41ms/step - loss: 0.7391 - accuracy: 0.6621 - auc: 0.8992 - val_loss: 0.7460 - val_accuracy: 0.6311 - val_auc: 0.8898\n",
      "\n",
      "Epoch 00009: val_loss improved from 0.79023 to 0.74597, saving model to Xception_9\n"
     ]
    },
    {
     "name": "stderr",
     "output_type": "stream",
     "text": [
      "/opt/conda/lib/python3.7/site-packages/keras/utils/generic_utils.py:497: CustomMaskWarning: Custom mask layers require a config and must override get_config. When loading, the custom mask layer must be passed to the custom_objects argument.\n",
      "  category=CustomMaskWarning)\n"
     ]
    },
    {
     "name": "stdout",
     "output_type": "stream",
     "text": [
      "Epoch 10/100\n",
      "1062/1062 [==============================] - 44s 41ms/step - loss: 0.7173 - accuracy: 0.6766 - auc: 0.9057 - val_loss: 0.7281 - val_accuracy: 0.6466 - val_auc: 0.8962\n",
      "\n",
      "Epoch 00010: val_loss improved from 0.74597 to 0.72805, saving model to Xception_10\n"
     ]
    },
    {
     "name": "stderr",
     "output_type": "stream",
     "text": [
      "/opt/conda/lib/python3.7/site-packages/keras/utils/generic_utils.py:497: CustomMaskWarning: Custom mask layers require a config and must override get_config. When loading, the custom mask layer must be passed to the custom_objects argument.\n",
      "  category=CustomMaskWarning)\n"
     ]
    },
    {
     "name": "stdout",
     "output_type": "stream",
     "text": [
      "Epoch 11/100\n",
      "1062/1062 [==============================] - 44s 42ms/step - loss: 0.6905 - accuracy: 0.6874 - auc: 0.9124 - val_loss: 0.7307 - val_accuracy: 0.6578 - val_auc: 0.8970\n",
      "\n",
      "Epoch 00011: val_loss did not improve from 0.72805\n",
      "Epoch 12/100\n",
      "1062/1062 [==============================] - 44s 41ms/step - loss: 0.6632 - accuracy: 0.7028 - auc: 0.9197 - val_loss: 0.7277 - val_accuracy: 0.6552 - val_auc: 0.8972\n",
      "\n",
      "Epoch 00012: val_loss improved from 0.72805 to 0.72766, saving model to Xception_12\n"
     ]
    },
    {
     "name": "stderr",
     "output_type": "stream",
     "text": [
      "/opt/conda/lib/python3.7/site-packages/keras/utils/generic_utils.py:497: CustomMaskWarning: Custom mask layers require a config and must override get_config. When loading, the custom mask layer must be passed to the custom_objects argument.\n",
      "  category=CustomMaskWarning)\n"
     ]
    },
    {
     "name": "stdout",
     "output_type": "stream",
     "text": [
      "Epoch 13/100\n",
      "1062/1062 [==============================] - 45s 42ms/step - loss: 0.6444 - accuracy: 0.7121 - auc: 0.9243 - val_loss: 0.6988 - val_accuracy: 0.6681 - val_auc: 0.9055\n",
      "\n",
      "Epoch 00013: val_loss improved from 0.72766 to 0.69882, saving model to Xception_13\n"
     ]
    },
    {
     "name": "stderr",
     "output_type": "stream",
     "text": [
      "/opt/conda/lib/python3.7/site-packages/keras/utils/generic_utils.py:497: CustomMaskWarning: Custom mask layers require a config and must override get_config. When loading, the custom mask layer must be passed to the custom_objects argument.\n",
      "  category=CustomMaskWarning)\n"
     ]
    },
    {
     "name": "stdout",
     "output_type": "stream",
     "text": [
      "Epoch 14/100\n",
      "1062/1062 [==============================] - 44s 41ms/step - loss: 0.6223 - accuracy: 0.7248 - auc: 0.9296 - val_loss: 0.6385 - val_accuracy: 0.7000 - val_auc: 0.9209\n",
      "\n",
      "Epoch 00014: val_loss improved from 0.69882 to 0.63846, saving model to Xception_14\n"
     ]
    },
    {
     "name": "stderr",
     "output_type": "stream",
     "text": [
      "/opt/conda/lib/python3.7/site-packages/keras/utils/generic_utils.py:497: CustomMaskWarning: Custom mask layers require a config and must override get_config. When loading, the custom mask layer must be passed to the custom_objects argument.\n",
      "  category=CustomMaskWarning)\n"
     ]
    },
    {
     "name": "stdout",
     "output_type": "stream",
     "text": [
      "Epoch 15/100\n",
      "1062/1062 [==============================] - 44s 42ms/step - loss: 0.6009 - accuracy: 0.7354 - auc: 0.9344 - val_loss: 0.5986 - val_accuracy: 0.7291 - val_auc: 0.9318\n",
      "\n",
      "Epoch 00015: val_loss improved from 0.63846 to 0.59865, saving model to Xception_15\n"
     ]
    },
    {
     "name": "stderr",
     "output_type": "stream",
     "text": [
      "/opt/conda/lib/python3.7/site-packages/keras/utils/generic_utils.py:497: CustomMaskWarning: Custom mask layers require a config and must override get_config. When loading, the custom mask layer must be passed to the custom_objects argument.\n",
      "  category=CustomMaskWarning)\n"
     ]
    },
    {
     "name": "stdout",
     "output_type": "stream",
     "text": [
      "Epoch 16/100\n",
      "1062/1062 [==============================] - 43s 40ms/step - loss: 0.5763 - accuracy: 0.7464 - auc: 0.9398 - val_loss: 0.5925 - val_accuracy: 0.7278 - val_auc: 0.9333\n",
      "\n",
      "Epoch 00016: val_loss improved from 0.59865 to 0.59246, saving model to Xception_16\n"
     ]
    },
    {
     "name": "stderr",
     "output_type": "stream",
     "text": [
      "/opt/conda/lib/python3.7/site-packages/keras/utils/generic_utils.py:497: CustomMaskWarning: Custom mask layers require a config and must override get_config. When loading, the custom mask layer must be passed to the custom_objects argument.\n",
      "  category=CustomMaskWarning)\n"
     ]
    },
    {
     "name": "stdout",
     "output_type": "stream",
     "text": [
      "Epoch 17/100\n",
      "1062/1062 [==============================] - 42s 40ms/step - loss: 0.5546 - accuracy: 0.7549 - auc: 0.9443 - val_loss: 0.5798 - val_accuracy: 0.7341 - val_auc: 0.9365\n",
      "\n",
      "Epoch 00017: val_loss improved from 0.59246 to 0.57979, saving model to Xception_17\n"
     ]
    },
    {
     "name": "stderr",
     "output_type": "stream",
     "text": [
      "/opt/conda/lib/python3.7/site-packages/keras/utils/generic_utils.py:497: CustomMaskWarning: Custom mask layers require a config and must override get_config. When loading, the custom mask layer must be passed to the custom_objects argument.\n",
      "  category=CustomMaskWarning)\n"
     ]
    },
    {
     "name": "stdout",
     "output_type": "stream",
     "text": [
      "Epoch 18/100\n",
      "1062/1062 [==============================] - 44s 41ms/step - loss: 0.5326 - accuracy: 0.7668 - auc: 0.9486 - val_loss: 0.5589 - val_accuracy: 0.7564 - val_auc: 0.9416\n",
      "\n",
      "Epoch 00018: val_loss improved from 0.57979 to 0.55892, saving model to Xception_18\n"
     ]
    },
    {
     "name": "stderr",
     "output_type": "stream",
     "text": [
      "/opt/conda/lib/python3.7/site-packages/keras/utils/generic_utils.py:497: CustomMaskWarning: Custom mask layers require a config and must override get_config. When loading, the custom mask layer must be passed to the custom_objects argument.\n",
      "  category=CustomMaskWarning)\n"
     ]
    },
    {
     "name": "stdout",
     "output_type": "stream",
     "text": [
      "Epoch 19/100\n",
      "1062/1062 [==============================] - 43s 40ms/step - loss: 0.5096 - accuracy: 0.7780 - auc: 0.9531 - val_loss: 0.5688 - val_accuracy: 0.7522 - val_auc: 0.9407\n",
      "\n",
      "Epoch 00019: val_loss did not improve from 0.55892\n",
      "Epoch 20/100\n",
      "1062/1062 [==============================] - 44s 41ms/step - loss: 0.4899 - accuracy: 0.7898 - auc: 0.9569 - val_loss: 0.5373 - val_accuracy: 0.7564 - val_auc: 0.9450\n",
      "\n",
      "Epoch 00020: val_loss improved from 0.55892 to 0.53730, saving model to Xception_20\n"
     ]
    },
    {
     "name": "stderr",
     "output_type": "stream",
     "text": [
      "/opt/conda/lib/python3.7/site-packages/keras/utils/generic_utils.py:497: CustomMaskWarning: Custom mask layers require a config and must override get_config. When loading, the custom mask layer must be passed to the custom_objects argument.\n",
      "  category=CustomMaskWarning)\n"
     ]
    },
    {
     "name": "stdout",
     "output_type": "stream",
     "text": [
      "Epoch 21/100\n",
      "1062/1062 [==============================] - 45s 42ms/step - loss: 0.4738 - accuracy: 0.7964 - auc: 0.9595 - val_loss: 0.5122 - val_accuracy: 0.7759 - val_auc: 0.9507\n",
      "\n",
      "Epoch 00021: val_loss improved from 0.53730 to 0.51218, saving model to Xception_21\n"
     ]
    },
    {
     "name": "stderr",
     "output_type": "stream",
     "text": [
      "/opt/conda/lib/python3.7/site-packages/keras/utils/generic_utils.py:497: CustomMaskWarning: Custom mask layers require a config and must override get_config. When loading, the custom mask layer must be passed to the custom_objects argument.\n",
      "  category=CustomMaskWarning)\n"
     ]
    },
    {
     "name": "stdout",
     "output_type": "stream",
     "text": [
      "Epoch 22/100\n",
      "1062/1062 [==============================] - 44s 42ms/step - loss: 0.4530 - accuracy: 0.8065 - auc: 0.9631 - val_loss: 0.5021 - val_accuracy: 0.7805 - val_auc: 0.9533\n",
      "\n",
      "Epoch 00022: val_loss improved from 0.51218 to 0.50208, saving model to Xception_22\n"
     ]
    },
    {
     "name": "stderr",
     "output_type": "stream",
     "text": [
      "/opt/conda/lib/python3.7/site-packages/keras/utils/generic_utils.py:497: CustomMaskWarning: Custom mask layers require a config and must override get_config. When loading, the custom mask layer must be passed to the custom_objects argument.\n",
      "  category=CustomMaskWarning)\n"
     ]
    },
    {
     "name": "stdout",
     "output_type": "stream",
     "text": [
      "Epoch 23/100\n",
      "1062/1062 [==============================] - 43s 40ms/step - loss: 0.4393 - accuracy: 0.8126 - auc: 0.9654 - val_loss: 0.4455 - val_accuracy: 0.8112 - val_auc: 0.9625\n",
      "\n",
      "Epoch 00023: val_loss improved from 0.50208 to 0.44551, saving model to Xception_23\n"
     ]
    },
    {
     "name": "stderr",
     "output_type": "stream",
     "text": [
      "/opt/conda/lib/python3.7/site-packages/keras/utils/generic_utils.py:497: CustomMaskWarning: Custom mask layers require a config and must override get_config. When loading, the custom mask layer must be passed to the custom_objects argument.\n",
      "  category=CustomMaskWarning)\n"
     ]
    },
    {
     "name": "stdout",
     "output_type": "stream",
     "text": [
      "Epoch 24/100\n",
      "1062/1062 [==============================] - 45s 42ms/step - loss: 0.4190 - accuracy: 0.8217 - auc: 0.9686 - val_loss: 0.4465 - val_accuracy: 0.8152 - val_auc: 0.9634\n",
      "\n",
      "Epoch 00024: val_loss did not improve from 0.44551\n",
      "Epoch 25/100\n",
      "1062/1062 [==============================] - 44s 41ms/step - loss: 0.3986 - accuracy: 0.8300 - auc: 0.9715 - val_loss: 0.4522 - val_accuracy: 0.8152 - val_auc: 0.9619\n",
      "\n",
      "Epoch 00025: val_loss did not improve from 0.44551\n",
      "Epoch 26/100\n",
      "1062/1062 [==============================] - 42s 40ms/step - loss: 0.3841 - accuracy: 0.8403 - auc: 0.9736 - val_loss: 0.4270 - val_accuracy: 0.8236 - val_auc: 0.9663\n",
      "\n",
      "Epoch 00026: val_loss improved from 0.44551 to 0.42700, saving model to Xception_26\n"
     ]
    },
    {
     "name": "stderr",
     "output_type": "stream",
     "text": [
      "/opt/conda/lib/python3.7/site-packages/keras/utils/generic_utils.py:497: CustomMaskWarning: Custom mask layers require a config and must override get_config. When loading, the custom mask layer must be passed to the custom_objects argument.\n",
      "  category=CustomMaskWarning)\n"
     ]
    },
    {
     "name": "stdout",
     "output_type": "stream",
     "text": [
      "Epoch 27/100\n",
      "1062/1062 [==============================] - 45s 42ms/step - loss: 0.3713 - accuracy: 0.8437 - auc: 0.9753 - val_loss: 0.4229 - val_accuracy: 0.8286 - val_auc: 0.9668\n",
      "\n",
      "Epoch 00027: val_loss improved from 0.42700 to 0.42291, saving model to Xception_27\n"
     ]
    },
    {
     "name": "stderr",
     "output_type": "stream",
     "text": [
      "/opt/conda/lib/python3.7/site-packages/keras/utils/generic_utils.py:497: CustomMaskWarning: Custom mask layers require a config and must override get_config. When loading, the custom mask layer must be passed to the custom_objects argument.\n",
      "  category=CustomMaskWarning)\n"
     ]
    },
    {
     "name": "stdout",
     "output_type": "stream",
     "text": [
      "Epoch 28/100\n",
      "1062/1062 [==============================] - 45s 42ms/step - loss: 0.3503 - accuracy: 0.8550 - auc: 0.9781 - val_loss: 0.4350 - val_accuracy: 0.8241 - val_auc: 0.9653\n",
      "\n",
      "Epoch 00028: val_loss did not improve from 0.42291\n",
      "Epoch 29/100\n",
      "1062/1062 [==============================] - 44s 41ms/step - loss: 0.3434 - accuracy: 0.8591 - auc: 0.9788 - val_loss: 0.4240 - val_accuracy: 0.8300 - val_auc: 0.9667\n",
      "\n",
      "Epoch 00029: val_loss did not improve from 0.42291\n",
      "Epoch 30/100\n",
      "1062/1062 [==============================] - 45s 42ms/step - loss: 0.3229 - accuracy: 0.8665 - auc: 0.9814 - val_loss: 0.4170 - val_accuracy: 0.8297 - val_auc: 0.9683\n",
      "\n",
      "Epoch 00030: val_loss improved from 0.42291 to 0.41700, saving model to Xception_30\n"
     ]
    },
    {
     "name": "stderr",
     "output_type": "stream",
     "text": [
      "/opt/conda/lib/python3.7/site-packages/keras/utils/generic_utils.py:497: CustomMaskWarning: Custom mask layers require a config and must override get_config. When loading, the custom mask layer must be passed to the custom_objects argument.\n",
      "  category=CustomMaskWarning)\n"
     ]
    },
    {
     "name": "stdout",
     "output_type": "stream",
     "text": [
      "Epoch 31/100\n",
      "1062/1062 [==============================] - 44s 41ms/step - loss: 0.3156 - accuracy: 0.8700 - auc: 0.9821 - val_loss: 0.4332 - val_accuracy: 0.8239 - val_auc: 0.9652\n",
      "\n",
      "Epoch 00031: val_loss did not improve from 0.41700\n",
      "Epoch 32/100\n",
      "1062/1062 [==============================] - 45s 42ms/step - loss: 0.3010 - accuracy: 0.8774 - auc: 0.9838 - val_loss: 0.3885 - val_accuracy: 0.8406 - val_auc: 0.9720\n",
      "\n",
      "Epoch 00032: val_loss improved from 0.41700 to 0.38848, saving model to Xception_32\n"
     ]
    },
    {
     "name": "stderr",
     "output_type": "stream",
     "text": [
      "/opt/conda/lib/python3.7/site-packages/keras/utils/generic_utils.py:497: CustomMaskWarning: Custom mask layers require a config and must override get_config. When loading, the custom mask layer must be passed to the custom_objects argument.\n",
      "  category=CustomMaskWarning)\n"
     ]
    },
    {
     "name": "stdout",
     "output_type": "stream",
     "text": [
      "Epoch 33/100\n",
      "1062/1062 [==============================] - 45s 42ms/step - loss: 0.2873 - accuracy: 0.8819 - auc: 0.9852 - val_loss: 0.3794 - val_accuracy: 0.8531 - val_auc: 0.9733\n",
      "\n",
      "Epoch 00033: val_loss improved from 0.38848 to 0.37944, saving model to Xception_33\n"
     ]
    },
    {
     "name": "stderr",
     "output_type": "stream",
     "text": [
      "/opt/conda/lib/python3.7/site-packages/keras/utils/generic_utils.py:497: CustomMaskWarning: Custom mask layers require a config and must override get_config. When loading, the custom mask layer must be passed to the custom_objects argument.\n",
      "  category=CustomMaskWarning)\n"
     ]
    },
    {
     "name": "stdout",
     "output_type": "stream",
     "text": [
      "Epoch 34/100\n",
      "1062/1062 [==============================] - 44s 42ms/step - loss: 0.2822 - accuracy: 0.8856 - auc: 0.9856 - val_loss: 0.4721 - val_accuracy: 0.8170 - val_auc: 0.9613\n",
      "\n",
      "Epoch 00034: val_loss did not improve from 0.37944\n",
      "Epoch 35/100\n",
      "1062/1062 [==============================] - 44s 42ms/step - loss: 0.2677 - accuracy: 0.8914 - auc: 0.9871 - val_loss: 0.3611 - val_accuracy: 0.8584 - val_auc: 0.9754\n",
      "\n",
      "Epoch 00035: val_loss improved from 0.37944 to 0.36114, saving model to Xception_35\n"
     ]
    },
    {
     "name": "stderr",
     "output_type": "stream",
     "text": [
      "/opt/conda/lib/python3.7/site-packages/keras/utils/generic_utils.py:497: CustomMaskWarning: Custom mask layers require a config and must override get_config. When loading, the custom mask layer must be passed to the custom_objects argument.\n",
      "  category=CustomMaskWarning)\n"
     ]
    },
    {
     "name": "stdout",
     "output_type": "stream",
     "text": [
      "Epoch 36/100\n",
      "1062/1062 [==============================] - 45s 42ms/step - loss: 0.2599 - accuracy: 0.8953 - auc: 0.9879 - val_loss: 0.4702 - val_accuracy: 0.8181 - val_auc: 0.9636\n",
      "\n",
      "Epoch 00036: val_loss did not improve from 0.36114\n",
      "Epoch 37/100\n",
      "1062/1062 [==============================] - 44s 42ms/step - loss: 0.2442 - accuracy: 0.9021 - auc: 0.9894 - val_loss: 0.3690 - val_accuracy: 0.8559 - val_auc: 0.9753\n",
      "\n",
      "Epoch 00037: val_loss did not improve from 0.36114\n",
      "Epoch 38/100\n",
      "1062/1062 [==============================] - 46s 44ms/step - loss: 0.2346 - accuracy: 0.9071 - auc: 0.9901 - val_loss: 0.3942 - val_accuracy: 0.8520 - val_auc: 0.9734\n",
      "\n",
      "Epoch 00038: val_loss did not improve from 0.36114\n",
      "Epoch 39/100\n",
      "1062/1062 [==============================] - 45s 42ms/step - loss: 0.2276 - accuracy: 0.9085 - auc: 0.9906 - val_loss: 0.3997 - val_accuracy: 0.8523 - val_auc: 0.9727\n",
      "\n",
      "Epoch 00039: val_loss did not improve from 0.36114\n",
      "Epoch 40/100\n",
      "1062/1062 [==============================] - 44s 41ms/step - loss: 0.2251 - accuracy: 0.9103 - auc: 0.9907 - val_loss: 0.3237 - val_accuracy: 0.8775 - val_auc: 0.9802\n",
      "\n",
      "Epoch 00040: val_loss improved from 0.36114 to 0.32366, saving model to Xception_40\n"
     ]
    },
    {
     "name": "stderr",
     "output_type": "stream",
     "text": [
      "/opt/conda/lib/python3.7/site-packages/keras/utils/generic_utils.py:497: CustomMaskWarning: Custom mask layers require a config and must override get_config. When loading, the custom mask layer must be passed to the custom_objects argument.\n",
      "  category=CustomMaskWarning)\n"
     ]
    },
    {
     "name": "stdout",
     "output_type": "stream",
     "text": [
      "Epoch 41/100\n",
      "1062/1062 [==============================] - 45s 42ms/step - loss: 0.2118 - accuracy: 0.9174 - auc: 0.9918 - val_loss: 0.3492 - val_accuracy: 0.8662 - val_auc: 0.9775\n",
      "\n",
      "Epoch 00041: val_loss did not improve from 0.32366\n",
      "Epoch 42/100\n",
      "1062/1062 [==============================] - 44s 42ms/step - loss: 0.2027 - accuracy: 0.9217 - auc: 0.9926 - val_loss: 0.3672 - val_accuracy: 0.8658 - val_auc: 0.9760\n",
      "\n",
      "Epoch 00042: val_loss did not improve from 0.32366\n",
      "Epoch 43/100\n",
      "1062/1062 [==============================] - 43s 40ms/step - loss: 0.1951 - accuracy: 0.9220 - auc: 0.9931 - val_loss: 0.3498 - val_accuracy: 0.8727 - val_auc: 0.9785\n",
      "\n",
      "Epoch 00043: val_loss did not improve from 0.32366\n",
      "Epoch 44/100\n",
      "1062/1062 [==============================] - 45s 42ms/step - loss: 0.1992 - accuracy: 0.9223 - auc: 0.9928 - val_loss: 0.4060 - val_accuracy: 0.8562 - val_auc: 0.9723\n",
      "\n",
      "Epoch 00044: val_loss did not improve from 0.32366\n",
      "Epoch 45/100\n",
      "1062/1062 [==============================] - 45s 42ms/step - loss: 0.1904 - accuracy: 0.9271 - auc: 0.9933 - val_loss: 0.3949 - val_accuracy: 0.8612 - val_auc: 0.9737\n",
      "\n",
      "Epoch 00045: val_loss did not improve from 0.32366\n",
      "Epoch 46/100\n",
      "1062/1062 [==============================] - 42s 39ms/step - loss: 0.1791 - accuracy: 0.9311 - auc: 0.9941 - val_loss: 0.3750 - val_accuracy: 0.8627 - val_auc: 0.9757\n",
      "\n",
      "Epoch 00046: val_loss did not improve from 0.32366\n",
      "Epoch 47/100\n",
      "1062/1062 [==============================] - 44s 41ms/step - loss: 0.1690 - accuracy: 0.9351 - auc: 0.9947 - val_loss: 0.3809 - val_accuracy: 0.8681 - val_auc: 0.9757\n",
      "\n",
      "Epoch 00047: val_loss did not improve from 0.32366\n",
      "Epoch 48/100\n",
      "1062/1062 [==============================] - 44s 41ms/step - loss: 0.1685 - accuracy: 0.9352 - auc: 0.9947 - val_loss: 0.3792 - val_accuracy: 0.8667 - val_auc: 0.9758\n",
      "\n",
      "Epoch 00048: val_loss did not improve from 0.32366\n",
      "Epoch 49/100\n",
      "1062/1062 [==============================] - 44s 41ms/step - loss: 0.1697 - accuracy: 0.9367 - auc: 0.9946 - val_loss: 0.3355 - val_accuracy: 0.8806 - val_auc: 0.9794\n",
      "\n",
      "Epoch 00049: val_loss did not improve from 0.32366\n",
      "Epoch 50/100\n",
      "1062/1062 [==============================] - 43s 40ms/step - loss: 0.1594 - accuracy: 0.9386 - auc: 0.9953 - val_loss: 0.3370 - val_accuracy: 0.8825 - val_auc: 0.9803\n",
      "\n",
      "Epoch 00050: val_loss did not improve from 0.32366\n",
      "Epoch 00050: early stopping\n"
     ]
    }
   ],
   "source": [
    "epochs = 100\n",
    "histories = dict()\n",
    "for m in models:\n",
    "    #fit\n",
    "    print(models[m].name)\n",
    "    history = models[m].fit(train_ds, validation_data = val_ds, epochs = epochs, callbacks = callbacks[m])\n",
    "    histories[m] = history"
   ]
  },
  {
   "cell_type": "code",
   "execution_count": 8,
   "id": "96fa8f4c",
   "metadata": {
    "execution": {
     "iopub.execute_input": "2022-10-07T19:02:25.662616Z",
     "iopub.status.busy": "2022-10-07T19:02:25.661383Z",
     "iopub.status.idle": "2022-10-07T19:02:27.138405Z",
     "shell.execute_reply": "2022-10-07T19:02:27.137421Z"
    },
    "papermill": {
     "duration": 5.846007,
     "end_time": "2022-10-07T19:02:27.140909",
     "exception": false,
     "start_time": "2022-10-07T19:02:21.294902",
     "status": "completed"
    },
    "tags": []
   },
   "outputs": [
    {
     "name": "stdout",
     "output_type": "stream",
     "text": [
      "efnb2\n"
     ]
    },
    {
     "data": {
      "image/png": "[encoded data removed]",
      "text/plain": [
       "<Figure size 1440x360 with 3 Axes>"
      ]
     },
     "metadata": {},
     "output_type": "display_data"
    },
    {
     "name": "stdout",
     "output_type": "stream",
     "text": [
      "Xception\n"
     ]
    },
    {
     "data": {
      "image/png": "[encoded data removed]",
      "text/plain": [
       "<Figure size 1440x360 with 3 Axes>"
      ]
     },
     "metadata": {},
     "output_type": "display_data"
    }
   ],
   "source": [
    "for key, history in histories.items():\n",
    "    print(key)\n",
    "    plot_history(history)"
   ]
  }
 ],
 "metadata": {
  "kernelspec": {
   "display_name": "Python 3",
   "language": "python",
   "name": "python3"
  },
  "language_info": {
   "codemirror_mode": {
    "name": "ipython",
    "version": 3
   },
   "file_extension": ".py",
   "mimetype": "text/x-python",
   "name": "python",
   "nbconvert_exporter": "python",
   "pygments_lexer": "ipython3",
   "version": "3.7.12"
  },
  "papermill": {
   "default_parameters": {},
   "duration": 9959.253737,
   "end_time": "2022-10-07T19:02:34.458048",
   "environment_variables": {},
   "exception": null,
   "input_path": "__notebook__.ipynb",
   "output_path": "__notebook__.ipynb",
   "parameters": {},
   "start_time": "2022-10-07T16:16:35.204311",
   "version": "2.3.4"
  }
 },
 "nbformat": 4,
 "nbformat_minor": 5
}
